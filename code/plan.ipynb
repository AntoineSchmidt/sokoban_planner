{
 "cells": [
  {
   "cell_type": "code",
   "execution_count": null,
   "metadata": {},
   "outputs": [],
   "source": [
    "%matplotlib inline\n",
    "\n",
    "from astar import *\n",
    "from utils import *\n",
    "from network import *"
   ]
  },
  {
   "cell_type": "code",
   "execution_count": null,
   "metadata": {},
   "outputs": [],
   "source": [
    "# load networks\n",
    "\n",
    "model = {}\n",
    "\n",
    "model['policy'] = create()[0]\n",
    "model['policy'].load_weights('models/il_action_exploration.h5')\n",
    "\n",
    "model['heuristic'] = create(shape_out=1, activation_out='linear')[0]\n",
    "model['heuristic'].load_weights('models/il_length_exploration.h5')"
   ]
  },
  {
   "cell_type": "code",
   "execution_count": null,
   "metadata": {},
   "outputs": [],
   "source": [
    "# create and solve Sokoban problems\n",
    "\n",
    "env = SokobanEnv(dim_room=(13, 13), num_boxes=3, num_gen_steps=40, max_steps=-1)\n",
    "draw(env)\n",
    "\n",
    "for action in search_astar(env, model, w=3.0):\n",
    "    env.step(action_translator[action], 'tiny_rgb_array')\n",
    "    draw(env)"
   ]
  }
 ],
 "metadata": {
  "kernelspec": {
   "display_name": "Python 3",
   "language": "python",
   "name": "python3"
  },
  "language_info": {
   "codemirror_mode": {
    "name": "ipython",
    "version": 3
   },
   "file_extension": ".py",
   "mimetype": "text/x-python",
   "name": "python",
   "nbconvert_exporter": "python",
   "pygments_lexer": "ipython3",
   "version": "3.6.7"
  }
 },
 "nbformat": 4,
 "nbformat_minor": 2
}
